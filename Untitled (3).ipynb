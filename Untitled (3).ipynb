{
 "cells": [
  {
   "cell_type": "code",
   "execution_count": 2,
   "metadata": {},
   "outputs": [],
   "source": [
    "\n",
    "from pyspark.mllib.feature import Word2Vec\n",
    "from pyspark.ml.feature import Word2Vec\n",
    "from pyspark.ml.feature import CountVectorizer, CountVectorizerModel, Tokenizer, RegexTokenizer, StopWordsRemover\n"
   ]
  },
  {
   "cell_type": "code",
   "execution_count": null,
   "metadata": {},
   "outputs": [],
   "source": [
    "from pyspark.sql import SparkSession\n",
    "spark = SparkSession.builder.appName('nlp').getOrCreate()\n",
    "spark = SparkSession.builder.getOrCreate()\n",
    "sc = spark.sparkContext"
   ]
  },
  {
   "cell_type": "code",
   "execution_count": 4,
   "metadata": {},
   "outputs": [],
   "source": [
    "from pyspark import SQLContext"
   ]
  },
  {
   "cell_type": "code",
   "execution_count": 7,
   "metadata": {},
   "outputs": [],
   "source": [
    "sqlContext = SQLContext(sc)"
   ]
  },
  {
   "cell_type": "code",
   "execution_count": 33,
   "metadata": {},
   "outputs": [
    {
     "name": "stdout",
     "output_type": "stream",
     "text": [
      "+---+--------------------+--------------------+-------------------+--------------------+--------------------+--------------------+\n",
      "|_c0|             authors|               title|       publish_date|         description|                text|                 url|\n",
      "+---+--------------------+--------------------+-------------------+--------------------+--------------------+--------------------+\n",
      "|  0|        ['Cbc News']|Coronavirus a 'wa...|2020-03-27 08:00:00|Canadian pharmaci...|\"Canadian pharmac...|\"\" he said.  Tadr...|\n",
      "|  1|        ['Cbc News']|Yukon gov't names...|2020-03-27 01:45:00|The Yukon governm...|\"The Yukon govern...|  from March 9 to 13|\n",
      "|  2|['The Associated ...|U.S. Senate passe...|2020-03-26 05:13:00|The Senate has pa...|\"The Senate late ...|\"\" said Democrati...|\n",
      "|  3|        ['Cbc News']|Coronavirus: The ...|2020-03-27 00:36:00|Scientists around...|\"Scientists aroun...| \"\" said Zarychanski|\n",
      "|  4|        ['Cbc News']|The latest on the...|2020-03-26 20:57:00|The latest on the...|\"    Trudeau says...|\"\" Prime Minister...|\n",
      "+---+--------------------+--------------------+-------------------+--------------------+--------------------+--------------------+\n",
      "only showing top 5 rows\n",
      "\n"
     ]
    }
   ],
   "source": [
    "df = sqlContext.read.csv(\"news.csv\", header=True,inferSchema=True)\n",
    "df.show(5)"
   ]
  },
  {
   "cell_type": "code",
   "execution_count": 34,
   "metadata": {},
   "outputs": [],
   "source": [
    "df.createOrReplaceTempView(\"table\")"
   ]
  },
  {
   "cell_type": "code",
   "execution_count": 35,
   "metadata": {
    "scrolled": true
   },
   "outputs": [
    {
     "name": "stdout",
     "output_type": "stream",
     "text": [
      "+--------------------+\n",
      "|               title|\n",
      "+--------------------+\n",
      "|Coronavirus a 'wa...|\n",
      "|Yukon gov't names...|\n",
      "|U.S. Senate passe...|\n",
      "|Coronavirus: The ...|\n",
      "|The latest on the...|\n",
      "|'Worse' pandemic ...|\n",
      "|What you need to ...|\n",
      "|Michigan hospital...|\n",
      "|U.S. coronavirus ...|\n",
      "|'Avoid the emerge...|\n",
      "|COVID-19 in Sask:...|\n",
      "| 'Jorgebarrera Or...|\n",
      "|How invoking the ...|\n",
      "| 'As The Late Lin...|\n",
      "|Alberta's film in...|\n",
      "| 'The World Cup I...|\n",
      "|N.L. fisheries re...|\n",
      "|1st death, 3 new ...|\n",
      "| 'Caroline.Bargho...|\n",
      "|It's 'too late' f...|\n",
      "+--------------------+\n",
      "only showing top 20 rows\n",
      "\n"
     ]
    }
   ],
   "source": [
    "practice = spark.sql(\"SELECT title FROM table\" )\n",
    "practice.show()"
   ]
  },
  {
   "cell_type": "code",
   "execution_count": 36,
   "metadata": {},
   "outputs": [],
   "source": [
    "from pyspark.ml.feature import Tokenizer"
   ]
  },
  {
   "cell_type": "code",
   "execution_count": 37,
   "metadata": {
    "scrolled": true
   },
   "outputs": [
    {
     "name": "stdout",
     "output_type": "stream",
     "text": [
      "+------------------------------------------------------------------+----------------------------------------------------------------------------+\n",
      "|title                                                             |tokenized                                                                   |\n",
      "+------------------------------------------------------------------+----------------------------------------------------------------------------+\n",
      "|Coronavirus a 'wake-up call' for Canada's prescription drug supply|[coronavirus, a, 'wake-up, call', for, canada's, prescription, drug, supply]|\n",
      "|Yukon gov't names 2 possible sources of coronavirus exposure      |[yukon, gov't, names, 2, possible, sources, of, coronavirus, exposure]      |\n",
      "|U.S. Senate passes $2T coronavirus relief package                 |[u.s., senate, passes, $2t, coronavirus, relief, package]                   |\n",
      "|Coronavirus: The latest in drug treatment and vaccine development |[coronavirus:, the, latest, in, drug, treatment, and, vaccine, development] |\n",
      "|The latest on the coronavirus outbreak for March 26               |[the, latest, on, the, coronavirus, outbreak, for, march, 26]               |\n",
      "+------------------------------------------------------------------+----------------------------------------------------------------------------+\n",
      "only showing top 5 rows\n",
      "\n"
     ]
    }
   ],
   "source": [
    "tokenization = Tokenizer(inputCol='title', outputCol='tokenized')\n",
    "tokenized_df = tokenization.transform(practice)\n",
    "tokenized_df.show(5, False)"
   ]
  },
  {
   "cell_type": "code",
   "execution_count": 38,
   "metadata": {
    "scrolled": true
   },
   "outputs": [
    {
     "name": "stdout",
     "output_type": "stream",
     "text": [
      "+----------------------------------------------------------------------------+--------------------------------------------------------------------+\n",
      "|tokenized                                                                   |new_tokenized                                                       |\n",
      "+----------------------------------------------------------------------------+--------------------------------------------------------------------+\n",
      "|[coronavirus, a, 'wake-up, call', for, canada's, prescription, drug, supply]|[coronavirus, 'wake-up, call', canada's, prescription, drug, supply]|\n",
      "|[yukon, gov't, names, 2, possible, sources, of, coronavirus, exposure]      |[yukon, gov't, names, 2, possible, sources, coronavirus, exposure]  |\n",
      "|[u.s., senate, passes, $2t, coronavirus, relief, package]                   |[u.s., senate, passes, $2t, coronavirus, relief, package]           |\n",
      "|[coronavirus:, the, latest, in, drug, treatment, and, vaccine, development] |[coronavirus:, latest, drug, treatment, vaccine, development]       |\n",
      "+----------------------------------------------------------------------------+--------------------------------------------------------------------+\n",
      "only showing top 4 rows\n",
      "\n"
     ]
    }
   ],
   "source": [
    "from pyspark.ml.feature import StopWordsRemover\n",
    "\n",
    "sw_removal = StopWordsRemover(inputCol='tokenized', outputCol='new_tokenized')\n",
    "\n",
    "new_df  = sw_removal.transform(tokenized_df)\n",
    "\n",
    "new_df.select([ 'tokenized', 'new_tokenized']).show(4, False)\n"
   ]
  },
  {
   "cell_type": "code",
   "execution_count": 39,
   "metadata": {
    "scrolled": true
   },
   "outputs": [
    {
     "name": "stdout",
     "output_type": "stream",
     "text": [
      "+--------------------------------------------------------------------------+--------------------------------------------------------------------+\n",
      "|count_vector                                                              |new_tokenized                                                       |\n",
      "+--------------------------------------------------------------------------+--------------------------------------------------------------------+\n",
      "|(5935,[1,156,231,440,2799,3654,4323],[1.0,1.0,1.0,1.0,1.0,1.0,1.0])       |[coronavirus, 'wake-up, call', canada's, prescription, drug, supply]|\n",
      "|(5935,[1,52,236,264,687,1091,3466,4927],[1.0,1.0,1.0,1.0,1.0,1.0,1.0,1.0])|[yukon, gov't, names, 2, possible, sources, coronavirus, exposure]  |\n",
      "|(5935,[1,48,143,431,870,2408,2466],[1.0,1.0,1.0,1.0,1.0,1.0,1.0])         |[u.s., senate, passes, $2t, coronavirus, relief, package]           |\n",
      "|(5935,[168,230,440,456,1021,3179],[1.0,1.0,1.0,1.0,1.0,1.0])              |[coronavirus:, latest, drug, treatment, vaccine, development]       |\n",
      "+--------------------------------------------------------------------------+--------------------------------------------------------------------+\n",
      "only showing top 4 rows\n",
      "\n"
     ]
    }
   ],
   "source": [
    "from pyspark.ml.feature import CountVectorizer\n",
    "\n",
    "count_vectorizer = CountVectorizer(inputCol='new_tokenized', outputCol='count_vector')\n",
    "\n",
    "cv_df = count_vectorizer.fit(new_df).transform(new_df)\n",
    "\n",
    "cv_df.select(['count_vector', 'new_tokenized']).show(4, False)\n"
   ]
  },
  {
   "cell_type": "code",
   "execution_count": 40,
   "metadata": {
    "scrolled": false
   },
   "outputs": [
    {
     "name": "stdout",
     "output_type": "stream",
     "text": [
      "+--------------------------------------------------------------------+--------------------------------------------------------------------------------------------------+\n",
      "|new_tokenized                                                       |tf_vector                                                                                         |\n",
      "+--------------------------------------------------------------------+--------------------------------------------------------------------------------------------------+\n",
      "|[coronavirus, 'wake-up, call', canada's, prescription, drug, supply]|(262144,[19409,40531,69392,119910,135051,205460,206738],[1.0,1.0,1.0,1.0,1.0,1.0,1.0])            |\n",
      "|[yukon, gov't, names, 2, possible, sources, coronavirus, exposure]  |(262144,[19409,67931,104901,149175,212053,214333,227860,236204],[1.0,1.0,1.0,1.0,1.0,1.0,1.0,1.0])|\n",
      "|[u.s., senate, passes, $2t, coronavirus, relief, package]           |(262144,[5518,19409,46332,70747,89896,90843,182338],[1.0,1.0,1.0,1.0,1.0,1.0,1.0])                |\n",
      "|[coronavirus:, latest, drug, treatment, vaccine, development]       |(262144,[100425,127948,168137,205460,211542,245898],[1.0,1.0,1.0,1.0,1.0,1.0])                    |\n",
      "+--------------------------------------------------------------------+--------------------------------------------------------------------------------------------------+\n",
      "only showing top 4 rows\n",
      "\n"
     ]
    }
   ],
   "source": [
    "from pyspark.ml.feature import HashingTF, IDF\n",
    "\n",
    "hashing_vector = HashingTF(inputCol='new_tokenized', outputCol='tf_vector')\n",
    "\n",
    "hashing_df = hashing_vector.transform(new_df)\n",
    "\n",
    "hashing_df.select(['new_tokenized', 'tf_vector']).show(4, False)\n"
   ]
  },
  {
   "cell_type": "code",
   "execution_count": 80,
   "metadata": {},
   "outputs": [
    {
     "name": "stdout",
     "output_type": "stream",
     "text": [
      "+--------------------------------------------------------------------+-----------------------------------------------------------------------------------------------------------------------------------------------------------------------------------------------------------------+\n",
      "|new_tokenized                                                       |tf_idf_vector                                                                                                                                                                                                    |\n",
      "+--------------------------------------------------------------------+-----------------------------------------------------------------------------------------------------------------------------------------------------------------------------------------------------------------+\n",
      "|[coronavirus, 'wake-up, call', canada's, prescription, drug, supply]|(262144,[19409,40531,69392,119910,135051,205460,206738],[1.6662500744465845,7.486333004798946,7.486333004798946,7.080867896690782,5.134957747635468,5.694573535570891,4.847275675183687])                        |\n",
      "|[yukon, gov't, names, 2, possible, sources, coronavirus, exposure]  |(262144,[19409,67931,104901,149175,212053,214333,227860,236204],[1.6662500744465845,6.387720716130836,6.1000386436790555,5.1837479118049,4.20918827180677,7.486333004798946,5.235041206192451,7.486333004798946])|\n",
      "|[u.s., senate, passes, $2t, coronavirus, relief, package]           |(262144,[5518,19409,46332,70747,89896,90843,182338],[7.080867896690782,1.6662500744465845,7.080867896690782,4.778282803696737,6.233570036303578,4.136428917524341,5.694573535570891])                            |\n",
      "|[coronavirus:, latest, drug, treatment, vaccine, development]       |(262144,[100425,127948,168137,205460,211542,245898],[4.8836433193545625,7.080867896690782,5.694573535570891,5.694573535570891,6.387720716130836,5.134957747635468])                                              |\n",
      "+--------------------------------------------------------------------+-----------------------------------------------------------------------------------------------------------------------------------------------------------------------------------------------------------------+\n",
      "only showing top 4 rows\n",
      "\n"
     ]
    }
   ],
   "source": [
    "tf_idf_vector = IDF(inputCol='tf_vector', outputCol='tf_idf_vector')\n",
    "\n",
    "tf_idf_df = tf_idf_vector.fit(hashing_df).transform(hashing_df)\n",
    "\n",
    "tf_idf_df.select(['new_tokenized','tf_idf_vector']).show(4, False)\n"
   ]
  },
  {
   "cell_type": "code",
   "execution_count": 77,
   "metadata": {
    "scrolled": true
   },
   "outputs": [
    {
     "name": "stdout",
     "output_type": "stream",
     "text": [
      "root\n",
      " |-- _c0: integer (nullable = true)\n",
      " |-- authors: string (nullable = true)\n",
      " |-- title: string (nullable = true)\n",
      " |-- publish_date: string (nullable = true)\n",
      " |-- description: string (nullable = true)\n",
      " |-- text: string (nullable = true)\n",
      " |-- url: string (nullable = true)\n",
      "\n"
     ]
    }
   ],
   "source": [
    "text_df = spark.read.csv('news.csv', inferSchema=True, header=True, sep=',')\n",
    "text_df.printSchema()"
   ]
  },
  {
   "cell_type": "code",
   "execution_count": 82,
   "metadata": {},
   "outputs": [],
   "source": [
    "data = sqlContext.read.format('com.databricks.spark.csv').options(header='true', inferschema='true').load('news.csv')"
   ]
  },
  {
   "cell_type": "code",
   "execution_count": 83,
   "metadata": {
    "scrolled": false
   },
   "outputs": [
    {
     "name": "stdout",
     "output_type": "stream",
     "text": [
      "+---+--------------------+--------------------+-------------------+--------------------+--------------------+--------------------+\n",
      "|_c0|             authors|               title|       publish_date|         description|                text|                 url|\n",
      "+---+--------------------+--------------------+-------------------+--------------------+--------------------+--------------------+\n",
      "|  0|        ['Cbc News']|Coronavirus a 'wa...|2020-03-27 08:00:00|Canadian pharmaci...|\"Canadian pharmac...|\"\" he said.  Tadr...|\n",
      "|  1|        ['Cbc News']|Yukon gov't names...|2020-03-27 01:45:00|The Yukon governm...|\"The Yukon govern...|  from March 9 to 13|\n",
      "|  2|['The Associated ...|U.S. Senate passe...|2020-03-26 05:13:00|The Senate has pa...|\"The Senate late ...|\"\" said Democrati...|\n",
      "|  3|        ['Cbc News']|Coronavirus: The ...|2020-03-27 00:36:00|Scientists around...|\"Scientists aroun...| \"\" said Zarychanski|\n",
      "|  4|        ['Cbc News']|The latest on the...|2020-03-26 20:57:00|The latest on the...|\"    Trudeau says...|\"\" Prime Minister...|\n",
      "+---+--------------------+--------------------+-------------------+--------------------+--------------------+--------------------+\n",
      "only showing top 5 rows\n",
      "\n"
     ]
    }
   ],
   "source": [
    "data.show(5)"
   ]
  },
  {
   "cell_type": "code",
   "execution_count": 84,
   "metadata": {},
   "outputs": [
    {
     "name": "stdout",
     "output_type": "stream",
     "text": [
      "+---+--------------------+\n",
      "|_c0|               title|\n",
      "+---+--------------------+\n",
      "|  0|Coronavirus a 'wa...|\n",
      "|  1|Yukon gov't names...|\n",
      "|  2|U.S. Senate passe...|\n",
      "|  3|Coronavirus: The ...|\n",
      "|  4|The latest on the...|\n",
      "+---+--------------------+\n",
      "only showing top 5 rows\n",
      "\n"
     ]
    }
   ],
   "source": [
    "drop_list = ['authors', 'publish_date', 'description', 'text', 'Unnamed: 0', 'url']\n",
    "data = data.select([column for column in data.columns if column not in drop_list])\n",
    "data.show(5)"
   ]
  },
  {
   "cell_type": "code",
   "execution_count": 85,
   "metadata": {
    "scrolled": false
   },
   "outputs": [
    {
     "name": "stdout",
     "output_type": "stream",
     "text": [
      "root\n",
      " |-- _c0: integer (nullable = true)\n",
      " |-- title: string (nullable = true)\n",
      "\n"
     ]
    }
   ],
   "source": [
    "data.printSchema()"
   ]
  }
 ],
 "metadata": {
  "kernelspec": {
   "display_name": "Python 3",
   "language": "python",
   "name": "python3"
  },
  "language_info": {
   "codemirror_mode": {
    "name": "ipython",
    "version": 3
   },
   "file_extension": ".py",
   "mimetype": "text/x-python",
   "name": "python",
   "nbconvert_exporter": "python",
   "pygments_lexer": "ipython3",
   "version": "3.6.7"
  }
 },
 "nbformat": 4,
 "nbformat_minor": 2
}
